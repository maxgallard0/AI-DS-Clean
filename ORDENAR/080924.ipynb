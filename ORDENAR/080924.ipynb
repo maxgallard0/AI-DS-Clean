{
 "cells": [
  {
   "cell_type": "code",
   "execution_count": 1,
   "metadata": {},
   "outputs": [
    {
     "name": "stdout",
     "output_type": "stream",
     "text": [
      "Requirement already satisfied: Pillow in /Users/maxgallardo/miniconda3/lib/python3.11/site-packages (10.4.0)\n",
      "Note: you may need to restart the kernel to use updated packages.\n",
      "Image format: PNG\n",
      "Image size: (1080, 1080)\n",
      "Image mode: RGBA\n"
     ]
    }
   ],
   "source": [
    "%pip install Pillow\n",
    "from PIL import Image\n",
    "\n",
    "# Specify the path to the image file\n",
    "image_path = \"/Users/maxgallardo/Pictures/Max.png\"\n",
    "\n",
    "# Open the image file\n",
    "image = Image.open(image_path)\n",
    "\n",
    "# Display some information about the image\n",
    "print(\"Image format:\", image.format)\n",
    "print(\"Image size:\", image.size)\n",
    "print(\"Image mode:\", image.mode)"
   ]
  },
  {
   "cell_type": "code",
   "execution_count": 2,
   "metadata": {},
   "outputs": [
    {
     "name": "stdout",
     "output_type": "stream",
     "text": [
      "Requirement already satisfied: matplotlib in /Users/maxgallardo/miniconda3/lib/python3.11/site-packages (3.9.1.post1)\n",
      "Requirement already satisfied: contourpy>=1.0.1 in /Users/maxgallardo/miniconda3/lib/python3.11/site-packages (from matplotlib) (1.2.1)\n",
      "Requirement already satisfied: cycler>=0.10 in /Users/maxgallardo/miniconda3/lib/python3.11/site-packages (from matplotlib) (0.12.1)\n",
      "Requirement already satisfied: fonttools>=4.22.0 in /Users/maxgallardo/miniconda3/lib/python3.11/site-packages (from matplotlib) (4.53.1)\n",
      "Requirement already satisfied: kiwisolver>=1.3.1 in /Users/maxgallardo/miniconda3/lib/python3.11/site-packages (from matplotlib) (1.4.5)\n",
      "Requirement already satisfied: numpy>=1.23 in /Users/maxgallardo/miniconda3/lib/python3.11/site-packages (from matplotlib) (1.26.0)\n",
      "Requirement already satisfied: packaging>=20.0 in /Users/maxgallardo/miniconda3/lib/python3.11/site-packages (from matplotlib) (23.0)\n",
      "Requirement already satisfied: pillow>=8 in /Users/maxgallardo/miniconda3/lib/python3.11/site-packages (from matplotlib) (10.4.0)\n",
      "Requirement already satisfied: pyparsing>=2.3.1 in /Users/maxgallardo/miniconda3/lib/python3.11/site-packages (from matplotlib) (3.1.2)\n",
      "Requirement already satisfied: python-dateutil>=2.7 in /Users/maxgallardo/miniconda3/lib/python3.11/site-packages (from matplotlib) (2.8.2)\n",
      "Requirement already satisfied: six>=1.5 in /Users/maxgallardo/miniconda3/lib/python3.11/site-packages (from python-dateutil>=2.7->matplotlib) (1.16.0)\n",
      "Note: you may need to restart the kernel to use updated packages.\n",
      "(1080, 1080, 4)\n",
      "[[0.04705882 0.04705882 0.04705882 0.04705882 0.04705882 0.04705882\n",
      "  0.04705882 0.04705882 0.04705882 0.04705882]\n",
      " [0.04705882 0.04705882 0.04705882 0.04705882 0.04705882 0.04705882\n",
      "  0.04705882 0.04705882 0.04705882 0.04705882]\n",
      " [0.04705882 0.04705882 0.04705882 0.04705882 0.04705882 0.04705882\n",
      "  0.04705882 0.04705882 0.04705882 0.04705882]\n",
      " [0.04705882 0.04705882 0.04705882 0.04705882 0.04705882 0.04705882\n",
      "  0.04705882 0.04705882 0.04705882 0.04705882]\n",
      " [0.04705882 0.04705882 0.04705882 0.04705882 0.04705882 0.04705882\n",
      "  0.04705882 0.04705882 0.04705882 0.04705882]]\n"
     ]
    }
   ],
   "source": [
    "%pip install matplotlib\n",
    "import matplotlib.pyplot as plt\n",
    "import matplotlib.image as mpimg\n",
    "\n",
    "image_path = \"/Users/maxgallardo/Pictures/Max.png\"\n",
    "image = mpimg.imread(image_path)\n",
    "print(image.shape)\n",
    "print(image[0:5,0:10,0])"
   ]
  }
 ],
 "metadata": {
  "kernelspec": {
   "display_name": "base",
   "language": "python",
   "name": "python3"
  },
  "language_info": {
   "codemirror_mode": {
    "name": "ipython",
    "version": 3
   },
   "file_extension": ".py",
   "mimetype": "text/x-python",
   "name": "python",
   "nbconvert_exporter": "python",
   "pygments_lexer": "ipython3",
   "version": "3.11.4"
  }
 },
 "nbformat": 4,
 "nbformat_minor": 2
}
