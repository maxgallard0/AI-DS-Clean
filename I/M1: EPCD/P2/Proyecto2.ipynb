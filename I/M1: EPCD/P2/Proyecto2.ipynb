{
 "cells": [
  {
   "cell_type": "markdown",
   "metadata": {},
   "source": [
    "<div style=\"text-align: center; padding-top: 200px;\">\n",
    "    <h1><strong>Proyecto 2 Regresión Logística</strong></h1>\n",
    "    <hr>\n",
    "    <p style=\"font-size: 20px;\">\n",
    "        Max Gallardo<br>\n",
    "        A01783128<br>\n",
    "        Inteligencia Artificial Avanzada para la Ciencia de Datos I (TC3006C)<br>\n",
    "        <strong>Profesor:</strong> Dr. Víctor de la Cueva<br>\n",
    "        19.08.24\n",
    "    </p>\n",
    "    <div style=\"padding-top: 50px;\">\n",
    "        <img src=\"Tec%20de%20Monterrey%20Logo.png\" alt=\"Tec de Monterrey Logo\" style=\"width: 200px;\"/>\n",
    "    </div>\n",
    "</div>"
   ]
  },
  {
   "cell_type": "markdown",
   "metadata": {},
   "source": [
    "&nbsp;\n",
    "&nbsp;\n",
    "&nbsp;\n",
    "&nbsp;\n",
    "&nbsp;"
   ]
  },
  {
   "cell_type": "markdown",
   "metadata": {},
   "source": [
    "&nbsp;\n",
    "&nbsp;\n",
    "&nbsp;\n",
    "&nbsp;\n",
    "&nbsp;"
   ]
  },
  {
   "cell_type": "markdown",
   "metadata": {},
   "source": [
    "&nbsp;\n",
    "&nbsp;\n",
    "&nbsp;\n",
    "&nbsp;\n",
    "&nbsp;"
   ]
  },
  {
   "cell_type": "markdown",
   "metadata": {},
   "source": [
    "&nbsp;\n",
    "&nbsp;\n",
    "&nbsp;\n",
    "&nbsp;\n",
    "&nbsp;"
   ]
  },
  {
   "cell_type": "markdown",
   "metadata": {},
   "source": [
    "## Introducción\n",
    "En este ejercicio, se desarrolló un modelo de regresión logística para predecir la admisión de estudiantes a una institución educativa basándose en sus calificaciones en dos exámenes. El objetivo principal fue construir un clasificador binario que, dado un conjunto de datos con etiquetas (admitido/no admitido), pudiera predecir si un estudiante sería admitido o no basado en sus puntajes.\n",
    "\n",
    "La regresión logística es un algoritmo de clasificación que calcula la probabilidad de que una observación pertenezca a una clase particular. Utiliza una función sigmoidal para mapear las combinaciones lineales de las características de entrada a un rango de 0 a 1. La hipótesis del modelo se ajusta mediante un proceso iterativo llamado gradiente descendente, que busca minimizar una función de costo.\n",
    "\n",
    "## Código y resultados\n",
    "\n",
    "### Importaciones"
   ]
  },
  {
   "cell_type": "code",
   "execution_count": 144,
   "metadata": {},
   "outputs": [],
   "source": [
    "import numpy as np\n",
    "import matplotlib.pyplot as plt\n",
    "from sklearn.preprocessing import StandardScaler as scaler"
   ]
  },
  {
   "cell_type": "markdown",
   "metadata": {},
   "source": [
    "- `numpy`: Es una biblioteca fundamental para realizar operaciones numéricas en Python. La usamos para manejar arrays, realizar operaciones matemáticas, y manejar datos matriciales.\n",
    "\n",
    "- `matplotlib.pyplot`: Es una biblioteca para crear gráficos en Python. La usamos para graficar los puntos de datos y la recta de decisión.\n",
    "\n",
    "- `sklearn.preprocessing.StandardScaler`: Es una herramienta de la biblioteca scikit-learn que se utiliza para estandarizar las características. Esto significa que ajusta los datos para que tengan una media de 0 y una desviación estándar de 1, lo cual es útil en muchos algoritmos de aprendizaje automático, incluyendo la regresión logística.\n",
    "\n",
    "### Graficar datos"
   ]
  },
  {
   "cell_type": "code",
   "execution_count": 145,
   "metadata": {},
   "outputs": [],
   "source": [
    "def graficaDatos(X, y, theta=None):\n",
    "    # Separar los ejemplos admitidos y no admitidos\n",
    "    admitidos = y == 1\n",
    "    no_admitidos = y == 0\n",
    "\n",
    "    # Graficar los ejemplos sin normalización\n",
    "    plt.scatter(X[admitidos, 0], X[admitidos, 1], c='blue', marker='x', label='Admitidos')\n",
    "    plt.scatter(X[no_admitidos, 0], X[no_admitidos, 1], c='red', marker='o', label='No Admitidos')\n",
    "\n",
    "    # Graficar la recta de decisión si se proporciona theta\n",
    "    if theta is not None:\n",
    "        # Graficar en la escala original (0 a 100)\n",
    "        x_values = np.array([0, 100])\n",
    "        # Desnormalizar theta para graficar correctamente\n",
    "        theta_0 = theta[0] - np.sum((theta[1:] * scaler.mean_) / scaler.scale_)\n",
    "        theta_1 = theta[1] / scaler.scale_[0]\n",
    "        theta_2 = theta[2] / scaler.scale_[1]\n",
    "        y_values = -(theta_0 + theta_1 * x_values) / theta_2\n",
    "        plt.plot(x_values, y_values, label='Límite de decisión')\n",
    "\n",
    "    # Configuración de la gráfica\n",
    "    plt.xlim(0, 100)  # Limitar el eje X de 0 a 100\n",
    "    plt.ylim(0, 100)  # Limitar el eje Y de 0 a 100\n",
    "    plt.xlabel('Examen 1')\n",
    "    plt.ylabel('Examen 2')\n",
    "    plt.legend()\n",
    "    plt.show()"
   ]
  },
  {
   "cell_type": "markdown",
   "metadata": {},
   "source": [
    "- Grafica los datos (calificaciones de exámenes) y, si se proporciona, también la recta de decisión calculada por el modelo de regresión logística.\n",
    "\n",
    "- Separa los datos en admitidos y no admitidos, los grafica con diferentes marcadores (\"X\" y \"O\"), y calcula la recta de decisión para mostrarla en el gráfico.\n",
    "\n",
    "### Ecuación sigmoidal"
   ]
  },
  {
   "cell_type": "code",
   "execution_count": 146,
   "metadata": {},
   "outputs": [],
   "source": [
    "def sigmoidal(z):\n",
    "    return 1 / (1 + np.exp(-z))"
   ]
  },
  {
   "cell_type": "markdown",
   "metadata": {},
   "source": [
    "- Calcula la función sigmoidal, que convierte cualquier valor en una probabilidad entre 0 y 1.\n",
    "\n",
    "- Convierte el valor de entrada (que generalmente es un producto punto entre las características y los parámetros) en una probabilidad."
   ]
  },
  {
   "cell_type": "code",
   "execution_count": 147,
   "metadata": {},
   "outputs": [],
   "source": [
    "def funcionCosto(theta, X, y):\n",
    "    m = len(y)\n",
    "    h = sigmoidal(np.dot(X, theta))\n",
    "    J = -(1/m) * (np.dot(y, np.log(h)) + np.dot((1 - y), np.log(1 - h)))\n",
    "    grad = (1/m) * np.dot(X.T, (h - y))\n",
    "    return J, grad"
   ]
  },
  {
   "cell_type": "markdown",
   "metadata": {},
   "source": [
    "- Calcula el costo (qué tan bien se está ajustando el modelo) y el gradiente (la dirección para ajustar los parámetros) en regresión logística.\n",
    "\n",
    "- Mide qué tan lejos está la predicción del modelo de las etiquetas reales y calcula cómo deben ajustarse los parámetros  𝜃 para mejorar la predicción.\n",
    "\n",
    "### Función de aprendizaje"
   ]
  },
  {
   "cell_type": "code",
   "execution_count": 148,
   "metadata": {},
   "outputs": [],
   "source": [
    "def aprende(theta, X, y, iteraciones, alpha):\n",
    "    for i in range(iteraciones):\n",
    "        J, grad = funcionCosto(theta, X, y)\n",
    "        theta -= alpha * grad\n",
    "    return theta"
   ]
  },
  {
   "cell_type": "markdown",
   "metadata": {},
   "source": [
    "- Implementa el algoritmo de gradiente descendente para ajustar los parámetros  𝜃 y minimizar el costo.\n",
    "\n",
    "- Itera varias veces, ajustando los parámetros 𝜃 gradualmente para encontrar los valores que minimizan el costo, utilizando la tasa de aprendizaje 𝛼.\n",
    "\n",
    "### Función de predicción"
   ]
  },
  {
   "cell_type": "code",
   "execution_count": 149,
   "metadata": {},
   "outputs": [],
   "source": [
    "def predice(theta, X):\n",
    "    probabilidad = sigmoidal(np.dot(X, theta))\n",
    "    return (probabilidad >= 0.5).astype(int)"
   ]
  },
  {
   "cell_type": "markdown",
   "metadata": {},
   "source": [
    "- Predice la clase (0 o 1) de nuevas instancias basándose en los parámetros 𝜃 aprendidos.\n",
    "-  Calcula la probabilidad de que una instancia pertenezca a la clase 1, y clasifica en 0 o 1 dependiendo si la probabilidad es menor o mayor a 0.5.\n",
    "\n",
    "### Código de prueba"
   ]
  },
  {
   "cell_type": "code",
   "execution_count": 150,
   "metadata": {},
   "outputs": [
    {
     "name": "stdout",
     "output_type": "stream",
     "text": [
      "Theta óptimo: [0.46725478 1.285726   1.15288545]\n"
     ]
    },
    {
     "data": {
      "image/png": "[encoded data removed]",
      "text/plain": [
       "<Figure size 640x480 with 1 Axes>"
      ]
     },
     "metadata": {},
     "output_type": "display_data"
    },
    {
     "name": "stdout",
     "output_type": "stream",
     "text": [
      "Predicción para el nuevo estudiante: Admitido\n"
     ]
    }
   ],
   "source": [
    "# Cargar los datos\n",
    "data = np.loadtxt('ex2data1.txt', delimiter=',')\n",
    "X = data[:, 0:2]  # No normalizar estos datos para graficar\n",
    "y = data[:, 2]\n",
    "\n",
    "# Mantener una copia de los datos originales para graficar\n",
    "X_original = X.copy()\n",
    "\n",
    "# Normalizar características para el entrenamiento (excluyendo la columna de 1's)\n",
    "scaler = StandardScaler()\n",
    "X = scaler.fit_transform(X)\n",
    "\n",
    "# Agregar columna de 1's a X para el entrenamiento\n",
    "m = X.shape[0]\n",
    "X = np.concatenate([np.ones((m, 1)), X], axis=1)\n",
    "\n",
    "# Inicializar theta\n",
    "theta = np.zeros(X.shape[1])\n",
    "\n",
    "# Definir parámetros\n",
    "iteraciones = 10000  # Aumentar el número de iteraciones\n",
    "alpha = 0.001  # Ajustar la tasa de aprendizaje\n",
    "\n",
    "# Entrenar el modelo\n",
    "theta_optimo = aprende(theta, X, y, iteraciones, alpha)\n",
    "\n",
    "# Mostrar theta óptimo\n",
    "print(f'Theta óptimo: {theta_optimo}')\n",
    "\n",
    "# Graficar datos y recta de decisión utilizando los datos originales\n",
    "graficaDatos(X_original, y, theta_optimo)\n",
    "\n",
    "# Predicción para un nuevo estudiante (usamos el modelo entrenado con datos normalizados)\n",
    "nuevo_estudiante = np.array([45, 85])\n",
    "nuevo_estudiante_norm = scaler.transform([nuevo_estudiante])\n",
    "nuevo_estudiante_norm = np.concatenate([np.ones(1), nuevo_estudiante_norm[0]])\n",
    "\n",
    "prediccion = predice(theta_optimo, nuevo_estudiante_norm)\n",
    "print(f'Predicción para el nuevo estudiante: {\"Admitido\" if prediccion == 1 else \"No Admitido\"}')"
   ]
  },
  {
   "cell_type": "markdown",
   "metadata": {},
   "source": [
    "### Hallazgos \n",
    "\n",
    "- **Interpretación Visual del Límite de Decisión**:\n",
    "   - En la imagen proporcionada, la línea de decisión resultante del modelo separa razonablemente bien las clases de admitidos y no admitidos. Se observa que la mayoría de los puntos etiquetados como admitidos (`X` azules) están por encima de la línea, mientras que la mayoría de los puntos etiquetados como no admitidos (`O` rojos) están por debajo de la línea.\n",
    "\n",
    "   - Sin embargo, algunos puntos están mal clasificados, lo que sugiere que, aunque el modelo ha encontrado un límite de decisión razonable, no es perfecto. Esto es de esperarse en la mayoría de los modelos lineales cuando los datos no son perfectamente linealmente separables.\n",
    "\n",
    "- **Theta Óptimo**:\n",
    "   - Los valores de $(\\theta)$ obtenidos son `[0.46725478, 1.285726, 1.15288545]`. Estos coeficientes reflejan la influencia de las calificaciones de los exámenes en la decisión de admisión.\n",
    "\n",
    "   - Un valor positivo en $(\\theta_1)$ y $(\\theta_2)$ indica que a medida que las calificaciones en los exámenes aumentan, la probabilidad de ser admitido también aumenta. El \\(\\theta_0\\) representa el término de sesgo (intersección) que ajusta la predicción hacia una clase u otra.\n",
    "   \n",
    "- **Predicción Correcta para un Nuevo Estudiante**:\n",
    "   - La predicción para un nuevo estudiante con calificaciones de 45 en el Examen 1 y 85 en el Examen 2 resultó en \"Admitido\". Esta predicción es coherente con la visualización, ya que estos puntajes caen en la región por encima de la línea de decisión, donde la mayoría de los estudiantes han sido admitidos.\n",
    "\n",
    "### Conclusiones\n",
    "\n",
    "- **Eficiencia del Modelo**:\n",
    "   - La línea de decisión calculada por el modelo funciona adecuadamente para clasificar a la mayoría de los estudiantes de manera correcta. Sin embargo, la presencia de algunos errores de clasificación sugiere que hay límites en la capacidad de un modelo lineal simple para capturar toda la variabilidad en los datos.\n",
    "\n",
    "   - Para mejorar la precisión, podría ser útil explorar modelos más complejos, como la regresión logística con características polinómicas o incluso técnicas de aprendizaje más avanzadas.\n",
    "\n",
    "- **Robustez de la Regresión Logística**:\n",
    "   - La predicción correcta para un nuevo estudiante indica que, a pesar de algunas limitaciones, el modelo de regresión logística es bastante robusto en la clasificación de estudiantes dentro de este dominio.\n",
    "   \n",
    "   - Sin embargo, es importante destacar que para casos donde los datos muestran mayor complejidad o no son linealmente separables, la regresión logística lineal puede no ser suficiente.\n",
    "\n",
    "- **Próximos Pasos**:\n",
    "   - Para abordar las limitaciones observadas, se podrían considerar enfoques adicionales, como la incorporación de características adicionales, el uso de métodos de regularización para evitar sobreajuste o la implementación de modelos no lineales que pueden manejar mejor la complejidad de los datos.\n",
    "\n",
    "En resumen, la visualización del límite de decisión junto con los valores de $(\\theta)$ óptimos y la predicción para un nuevo estudiante refuerzan la efectividad del modelo, pero también subrayan las áreas donde podría beneficiarse de mejoras adicionales."
   ]
  }
 ],
 "metadata": {
  "kernelspec": {
   "display_name": "base",
   "language": "python",
   "name": "python3"
  },
  "language_info": {
   "codemirror_mode": {
    "name": "ipython",
    "version": 3
   },
   "file_extension": ".py",
   "mimetype": "text/x-python",
   "name": "python",
   "nbconvert_exporter": "python",
   "pygments_lexer": "ipython3",
   "version": "3.11.4"
  }
 },
 "nbformat": 4,
 "nbformat_minor": 2
}
